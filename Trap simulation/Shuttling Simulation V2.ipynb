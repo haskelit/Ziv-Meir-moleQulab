{
 "cells": [
  {
   "cell_type": "code",
   "id": "e0cc2f32628698df",
   "metadata": {
    "ExecuteTime": {
     "end_time": "2025-06-10T08:40:14.397154Z",
     "start_time": "2025-06-10T08:40:14.382524Z"
    }
   },
   "source": [
    "import numpy as np\n",
    "import importlib\n",
    "import PaulTrap\n",
    "import matplotlib.pyplot as plt\n",
    "import os\n",
    "importlib.reload(PaulTrap)\n",
    "from PaulTrap import PaulTrap\n",
    "import PyQt6\n"
   ],
   "outputs": [],
   "execution_count": 5
  },
  {
   "metadata": {},
   "cell_type": "markdown",
   "source": "now we use the fact that we created a class to create a trap object",
   "id": "961d65093f13f6c"
  },
  {
   "metadata": {
    "ExecuteTime": {
     "end_time": "2025-06-10T08:40:15.542930Z",
     "start_time": "2025-06-10T08:40:15.342609Z"
    }
   },
   "cell_type": "code",
   "source": [
    "m = 40 # atomic mass\n",
    "charge = 1 # charge in elementary charge units\n",
    "RF_freq = 2 * np.pi * 25 * 10e6 # RF frequency in Hz, actually it's omega\n",
    "trap = PaulTrap(mass=m, RF_freq=RF_freq, charge=charge)"
   ],
   "id": "684803f3e4b1e751",
   "outputs": [],
   "execution_count": 6
  },
  {
   "metadata": {
    "ExecuteTime": {
     "end_time": "2025-06-10T08:41:42.772491Z",
     "start_time": "2025-06-10T08:41:42.523658Z"
    }
   },
   "cell_type": "code",
   "source": "trap.plot_electrode_potentials()",
   "id": "aecc3a962e488ed2",
   "outputs": [],
   "execution_count": 10
  },
  {
   "metadata": {
    "ExecuteTime": {
     "end_time": "2025-06-10T08:41:23.762878Z",
     "start_time": "2025-06-10T08:41:23.262651Z"
    }
   },
   "cell_type": "code",
   "source": [
    "%matplotlib qt\n",
    "\n",
    "trap.set_DC_voltages(V_EC_L=0,\n",
    "                     V_DC_L=17,\n",
    "                     V_BIAS=0,\n",
    "                     V_DC_R=17,\n",
    "                     V_EC_R=0)\n",
    "\n",
    "#trap.plot_trap_potential()\n",
    "trap_freq = trap.get_trap_frequency(0,0.1)\n",
    "print(f\"Trap frequency (omega_z): 2pi * {(trap_freq / (2*np.pi)) * 1e-6:.5f} MHz\")\n",
    "\n",
    "trap.set_AC_voltage(AC_voltage=375) # set AC voltage in volts\n",
    "\n",
    "trap.plot_trap_potential()\n",
    "trap_freq = trap.get_trap_frequency(0,0.1)\n",
    "print(f\"Trap frequency (omega_z): 2pi * {(trap_freq / (2*np.pi)) * 1e-6:.5f} MHz\")\n",
    "\n"
   ],
   "id": "facffaca4d9020dd",
   "outputs": [
    {
     "name": "stdout",
     "output_type": "stream",
     "text": [
      "Trap frequency (omega_z): 2pi * 0.46430 MHz\n",
      "Trap frequency (omega_z): 2pi * 0.46430 MHz\n"
     ]
    }
   ],
   "execution_count": 9
  },
  {
   "metadata": {
    "ExecuteTime": {
     "end_time": "2025-05-26T10:05:01.857031Z",
     "start_time": "2025-05-26T10:05:01.739537Z"
    }
   },
   "cell_type": "code",
   "source": [
    "trap_freq = trap.get_trap_frequency(0,0.1)\n",
    "#print(trap_freq)\n",
    "print(f\"Trap frequency (omega_z): 2pi * {(trap_freq / (2*np.pi)) * 1e-6:.5f} MHz\")"
   ],
   "id": "11cc09403ee0623e",
   "outputs": [
    {
     "name": "stdout",
     "output_type": "stream",
     "text": [
      "Trap frequency (omega_z): 2pi * 0.32831 MHz\n"
     ]
    }
   ],
   "execution_count": 5
  },
  {
   "metadata": {},
   "cell_type": "code",
   "outputs": [],
   "execution_count": null,
   "source": "",
   "id": "466b5aae9be360e3"
  },
  {
   "metadata": {
    "ExecuteTime": {
     "end_time": "2025-05-13T13:55:25.758049Z",
     "start_time": "2025-05-13T13:51:37.306619Z"
    }
   },
   "cell_type": "code",
   "source": "trap.interactive_trap_potential()",
   "id": "62b71a87c56dd075",
   "outputs": [
    {
     "name": "stderr",
     "output_type": "stream",
     "text": [
      "Exception in Tkinter callback\n",
      "Traceback (most recent call last):\n",
      "  File \"C:\\Users\\itama\\AppData\\Local\\Programs\\Python\\Python311\\Lib\\tkinter\\__init__.py\", line 1967, in __call__\n",
      "    return self.func(*args)\n",
      "           ^^^^^^^^^^^^^^^^\n",
      "  File \"C:\\Users\\itama\\OneDrive\\Documents\\GitHub\\Ziv-Meir-moleQulab\\Trap simulation\\PaulTrap.py\", line 133, in <lambda>\n",
      "    command=lambda value, idx=i: update_potential(idx, value))\n",
      "                                 ^^^^^^^^^^^^^^^^^^^^^^^^^^^^\n",
      "  File \"C:\\Users\\itama\\OneDrive\\Documents\\GitHub\\Ziv-Meir-moleQulab\\Trap simulation\\PaulTrap.py\", line 107, in update_potential\n",
      "    ax.clear()\n",
      "    ^^\n",
      "NameError: cannot access free variable 'ax' where it is not associated with a value in enclosing scope\n",
      "Exception in Tkinter callback\n",
      "Traceback (most recent call last):\n",
      "  File \"C:\\Users\\itama\\AppData\\Local\\Programs\\Python\\Python311\\Lib\\tkinter\\__init__.py\", line 1967, in __call__\n",
      "    return self.func(*args)\n",
      "           ^^^^^^^^^^^^^^^^\n",
      "  File \"C:\\Users\\itama\\OneDrive\\Documents\\GitHub\\Ziv-Meir-moleQulab\\Trap simulation\\PaulTrap.py\", line 133, in <lambda>\n",
      "    command=lambda value, idx=i: update_potential(idx, value))\n",
      "                                 ^^^^^^^^^^^^^^^^^^^^^^^^^^^^\n",
      "  File \"C:\\Users\\itama\\OneDrive\\Documents\\GitHub\\Ziv-Meir-moleQulab\\Trap simulation\\PaulTrap.py\", line 107, in update_potential\n",
      "    ax.clear()\n",
      "    ^^\n",
      "NameError: cannot access free variable 'ax' where it is not associated with a value in enclosing scope\n",
      "Exception in Tkinter callback\n",
      "Traceback (most recent call last):\n",
      "  File \"C:\\Users\\itama\\AppData\\Local\\Programs\\Python\\Python311\\Lib\\tkinter\\__init__.py\", line 1967, in __call__\n",
      "    return self.func(*args)\n",
      "           ^^^^^^^^^^^^^^^^\n",
      "  File \"C:\\Users\\itama\\OneDrive\\Documents\\GitHub\\Ziv-Meir-moleQulab\\Trap simulation\\PaulTrap.py\", line 133, in <lambda>\n",
      "    command=lambda value, idx=i: update_potential(idx, value))\n",
      "                                 ^^^^^^^^^^^^^^^^^^^^^^^^^^^^\n",
      "  File \"C:\\Users\\itama\\OneDrive\\Documents\\GitHub\\Ziv-Meir-moleQulab\\Trap simulation\\PaulTrap.py\", line 107, in update_potential\n",
      "    ax.clear()\n",
      "    ^^\n",
      "NameError: cannot access free variable 'ax' where it is not associated with a value in enclosing scope\n",
      "Exception in Tkinter callback\n",
      "Traceback (most recent call last):\n",
      "  File \"C:\\Users\\itama\\AppData\\Local\\Programs\\Python\\Python311\\Lib\\tkinter\\__init__.py\", line 1967, in __call__\n",
      "    return self.func(*args)\n",
      "           ^^^^^^^^^^^^^^^^\n",
      "  File \"C:\\Users\\itama\\OneDrive\\Documents\\GitHub\\Ziv-Meir-moleQulab\\Trap simulation\\PaulTrap.py\", line 133, in <lambda>\n",
      "    command=lambda value, idx=i: update_potential(idx, value))\n",
      "                                 ^^^^^^^^^^^^^^^^^^^^^^^^^^^^\n",
      "  File \"C:\\Users\\itama\\OneDrive\\Documents\\GitHub\\Ziv-Meir-moleQulab\\Trap simulation\\PaulTrap.py\", line 107, in update_potential\n",
      "    ax.clear()\n",
      "    ^^\n",
      "NameError: cannot access free variable 'ax' where it is not associated with a value in enclosing scope\n",
      "Exception in Tkinter callback\n",
      "Traceback (most recent call last):\n",
      "  File \"C:\\Users\\itama\\AppData\\Local\\Programs\\Python\\Python311\\Lib\\tkinter\\__init__.py\", line 1967, in __call__\n",
      "    return self.func(*args)\n",
      "           ^^^^^^^^^^^^^^^^\n",
      "  File \"C:\\Users\\itama\\OneDrive\\Documents\\GitHub\\Ziv-Meir-moleQulab\\Trap simulation\\PaulTrap.py\", line 133, in <lambda>\n",
      "    command=lambda value, idx=i: update_potential(idx, value))\n",
      "                                 ^^^^^^^^^^^^^^^^^^^^^^^^^^^^\n",
      "  File \"C:\\Users\\itama\\OneDrive\\Documents\\GitHub\\Ziv-Meir-moleQulab\\Trap simulation\\PaulTrap.py\", line 107, in update_potential\n",
      "    ax.clear()\n",
      "    ^^\n",
      "NameError: cannot access free variable 'ax' where it is not associated with a value in enclosing scope\n"
     ]
    }
   ],
   "execution_count": 28
  },
  {
   "metadata": {
    "ExecuteTime": {
     "end_time": "2025-05-05T09:39:01.233620Z",
     "start_time": "2025-05-05T09:39:01.228677Z"
    }
   },
   "cell_type": "code",
   "source": "",
   "id": "f893e919f356155f",
   "outputs": [],
   "execution_count": null
  },
  {
   "metadata": {
    "ExecuteTime": {
     "end_time": "2025-05-05T09:39:01.293054Z",
     "start_time": "2025-05-05T09:39:01.289367Z"
    }
   },
   "cell_type": "code",
   "source": "",
   "id": "c31e47e205af4c8b",
   "outputs": [],
   "execution_count": null
  },
  {
   "metadata": {},
   "cell_type": "code",
   "outputs": [],
   "execution_count": null,
   "source": "",
   "id": "d4baebb24e95f74e"
  }
 ],
 "metadata": {
  "kernelspec": {
   "display_name": "Python 3",
   "language": "python",
   "name": "python3"
  },
  "language_info": {
   "codemirror_mode": {
    "name": "ipython",
    "version": 2
   },
   "file_extension": ".py",
   "mimetype": "text/x-python",
   "name": "python",
   "nbconvert_exporter": "python",
   "pygments_lexer": "ipython2",
   "version": "2.7.6"
  }
 },
 "nbformat": 4,
 "nbformat_minor": 5
}
